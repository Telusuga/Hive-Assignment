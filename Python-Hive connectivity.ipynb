{
 "cells": [
  {
   "cell_type": "code",
   "execution_count": 3,
   "id": "0b5672ac-897b-40f8-bd62-2ac669ee8451",
   "metadata": {},
   "outputs": [
    {
     "name": "stdout",
     "output_type": "stream",
     "text": [
      "Requirement already satisfied: Pyhive in /opt/conda/lib/python3.10/site-packages (0.6.5)\n",
      "Requirement already satisfied: future in /opt/conda/lib/python3.10/site-packages (from Pyhive) (0.18.2)\n",
      "Requirement already satisfied: python-dateutil in /opt/conda/lib/python3.10/site-packages (from Pyhive) (2.8.2)\n",
      "Requirement already satisfied: six>=1.5 in /opt/conda/lib/python3.10/site-packages (from python-dateutil->Pyhive) (1.16.0)\n",
      "Note: you may need to restart the kernel to use updated packages.\n"
     ]
    }
   ],
   "source": [
    "!pip install Pyhive"
   ]
  },
  {
   "cell_type": "code",
   "execution_count": null,
   "id": "a318366f-78fd-44d3-b6cf-9bcbf8bd5756",
   "metadata": {},
   "outputs": [],
   "source": [
    "from Pyhive import hive\n",
    "\n",
    "host_name = '192.168.56.101'\n",
    "port = 22\n",
    "user = 'cloudera'\n",
    "password = 'cloudera'\n",
    "database='Python_hive_conn'\n",
    "\n",
    "def hiveconnection(host_name, port, user,password, database):\n",
    "    \n",
    "    try:\n",
    "        conn = hive.Connection(host=host_name, port=port, username=user, password=password, database=database, auth='CUSTOM')\n",
    "        cur = conn.cursor()\n",
    "        print('Database connected')\n",
    "        \n",
    "    except Exception as error:\n",
    "        print(\"Invalid connection please check the error-->\",error)\n",
    "        \n",
    "    \n",
    "output = hiveconnection(host_name, port, user,password, database)\n"
   ]
  },
  {
   "cell_type": "code",
   "execution_count": null,
   "id": "d54940a0-449d-4653-998b-9fc5913d8daf",
   "metadata": {},
   "outputs": [],
   "source": [
    "def table_creation(host_name, port, user,password, database):\n",
    "    try:\n",
    "        conn = hive.Connection(host=host_name, port=port, username=user, password=password, database=database, auth='CUSTOM')\n",
    "        cur = conn.cursor()\n",
    "        print('Database connected')\n",
    "        cur.execute('create temporary table test_1( id int, name string) row format delimited fields termianted by '|'')\n",
    "        print('Table created')\n",
    "        \n",
    "        \n",
    "    except except Exception as error:\n",
    "        print(\" please check the error-->\",error)"
   ]
  },
  {
   "cell_type": "code",
   "execution_count": null,
   "id": "6358c97d-fd48-4058-96f8-74fbbd8e6c5a",
   "metadata": {},
   "outputs": [],
   "source": [
    "def table_creation(host_name, port, user,password, database):\n",
    "    try:\n",
    "        conn = hive.Connection(host=host_name, port=port, username=user, password=password, database=database, auth='CUSTOM')\n",
    "        cur = conn.cursor()\n",
    "        print('Database connected')\n",
    "        cur.execute('select * from table_1 ')\n",
    "        result=cur.fetchall()\n",
    "        \n",
    "        \n",
    "    except except Exception as error:\n",
    "        print(\" please check the error-->\",error)"
   ]
  },
  {
   "cell_type": "code",
   "execution_count": null,
   "id": "476b82ea-5618-4372-aa46-b2b539de3f63",
   "metadata": {},
   "outputs": [],
   "source": [
    "def table_creation(host_name, port, user,password, database):\n",
    "    try:\n",
    "        conn = hive.Connection(host=host_name, port=port, username=user, password=password, database=database, auth='CUSTOM')\n",
    "        cur = conn.cursor()\n",
    "        print('Database connected')\n",
    "        cur.execute('select * from table_1 where id>2')\n",
    "        result=cur.fetchall()\n",
    "        \n",
    "        \n",
    "    except except Exception as error:\n",
    "        print(\" please check the error-->\",error)"
   ]
  },
  {
   "cell_type": "code",
   "execution_count": null,
   "id": "886e33b3-ee12-436a-84fe-7bf9b498cc57",
   "metadata": {},
   "outputs": [],
   "source": [
    "def table_creation(host_name, port, user,password, database):\n",
    "    try:\n",
    "        conn = hive.Connection(host=host_name, port=port, username=user, password=password, database=database, auth='CUSTOM')\n",
    "        cur = conn.cursor()\n",
    "        print('Database connected')\n",
    "        cur.execute('drop test_1')\n",
    "        \n",
    "    except except Exception as error:\n",
    "        print(\" please check the error-->\",error)"
   ]
  }
 ],
 "metadata": {
  "kernelspec": {
   "display_name": "Python 3 (ipykernel)",
   "language": "python",
   "name": "python3"
  },
  "language_info": {
   "codemirror_mode": {
    "name": "ipython",
    "version": 3
   },
   "file_extension": ".py",
   "mimetype": "text/x-python",
   "name": "python",
   "nbconvert_exporter": "python",
   "pygments_lexer": "ipython3",
   "version": "3.10.6"
  }
 },
 "nbformat": 4,
 "nbformat_minor": 5
}
